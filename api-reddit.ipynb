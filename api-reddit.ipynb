{
 "cells": [
  {
   "cell_type": "code",
   "execution_count": null,
   "metadata": {},
   "outputs": [],
   "source": [
    "import praw"
   ]
  },
  {
   "cell_type": "code",
   "execution_count": null,
   "metadata": {},
   "outputs": [],
   "source": [
    "reddit = praw.Reddit(client_id='3MsN2iQ3rsvdqQ', client_secret=\"3q6cv3fb5aAbvvS20xOUa-buD04\",\n",
    "                     password='Atl#30076', user_agent='USERAGENT',\n",
    "                     username='digital_crafts_808')"
   ]
  },
  {
   "cell_type": "code",
   "execution_count": null,
   "metadata": {},
   "outputs": [],
   "source": [
    "# Create a submission to r/test\n",
    "currID = reddit.subreddit('test').submit(\"Yo, yo, How Y'all Doin\", url='https://reddit.com')\n",
    "currID"
   ]
  },
  {
   "cell_type": "code",
   "execution_count": null,
   "metadata": {},
   "outputs": [],
   "source": [
    "currID.reply('Super rad!')"
   ]
  },
  {
   "cell_type": "code",
   "execution_count": null,
   "metadata": {},
   "outputs": [],
   "source": [
    "# Comment on a known submission\n",
    "submission = reddit.submission(url='https://www.reddit.com/comments/h15elxd')\n",
    "submission.reply('Super rad!')"
   ]
  },
  {
   "cell_type": "code",
   "execution_count": null,
   "metadata": {},
   "outputs": [],
   "source": []
  },
  {
   "cell_type": "code",
   "execution_count": null,
   "metadata": {},
   "outputs": [],
   "source": [
    "# Reply to the first comment of a weekly top thread of a moderated community\n",
    "submission = next(reddit.subreddit('mod').top('week'))\n",
    "submission.comments[0].reply('An automated reply')"
   ]
  },
  {
   "cell_type": "code",
   "execution_count": 14,
   "metadata": {},
   "outputs": [],
   "source": [
    "# Output score for the first 256 items on the frontpage\n",
    "for submission in reddit.front.hot(limit=256):\n",
    "    print(submission.score)"
   ]
  },
  {
   "cell_type": "code",
   "execution_count": 15,
   "metadata": {},
   "outputs": [],
   "source": [
    "# Obtain the moderator listing for r/redditdev\n",
    "\n",
    "modArray = []\n",
    "for moderator in reddit.subreddit('atlanta').moderator():\n",
    "    modArray.append(moderator.name)"
   ]
  },
  {
   "cell_type": "code",
   "execution_count": 16,
   "metadata": {},
   "outputs": [
    {
     "output_type": "execute_result",
     "data": {
      "text/plain": [
       "['Kllian',\n",
       " 'Arkadyf',\n",
       " 'dsokol',\n",
       " 'cosby',\n",
       " 'AutoModerator',\n",
       " 'oakgrove',\n",
       " 'askatlmod',\n",
       " 'mb44']"
      ]
     },
     "metadata": {},
     "execution_count": 16
    }
   ],
   "source": [
    "modArray"
   ]
  },
  {
   "cell_type": "code",
   "execution_count": 17,
   "metadata": {},
   "outputs": [],
   "source": [
    "url = \"https://www.reddit.com/r/funny/comments/3g1jfi/buttons/\"\n",
    "\n",
    "submission = reddit.submission(url=url)"
   ]
  },
  {
   "cell_type": "code",
   "execution_count": 18,
   "metadata": {},
   "outputs": [
    {
     "output_type": "execute_result",
     "data": {
      "text/plain": [
       "['__call__',\n",
       " '__class__',\n",
       " '__delattr__',\n",
       " '__dir__',\n",
       " '__doc__',\n",
       " '__eq__',\n",
       " '__format__',\n",
       " '__func__',\n",
       " '__ge__',\n",
       " '__get__',\n",
       " '__getattribute__',\n",
       " '__gt__',\n",
       " '__hash__',\n",
       " '__init__',\n",
       " '__init_subclass__',\n",
       " '__le__',\n",
       " '__lt__',\n",
       " '__ne__',\n",
       " '__new__',\n",
       " '__reduce__',\n",
       " '__reduce_ex__',\n",
       " '__repr__',\n",
       " '__self__',\n",
       " '__setattr__',\n",
       " '__sizeof__',\n",
       " '__str__',\n",
       " '__subclasshook__']"
      ]
     },
     "metadata": {},
     "execution_count": 18
    }
   ],
   "source": [
    "dir(reddit.submission)"
   ]
  },
  {
   "cell_type": "code",
   "execution_count": 54,
   "metadata": {},
   "outputs": [],
   "source": [
    "subreddit = reddit.subreddit('vandwellers')\n",
    "\n",
    "hot_posts = subreddit.hot()\n",
    "top_posts = subreddit.top()\n"
   ]
  },
  {
   "cell_type": "code",
   "execution_count": 55,
   "metadata": {
    "tags": [
     "outputPrepend"
    ]
   },
   "outputs": [
    {
     "output_type": "stream",
     "name": "stdout",
     "text": [
      "/comments/hefebs/finally_bought_our_soon_to_be_home_2010_ford_e450/\nTitle:  Finally bought our soon to be home 2010 Ford E-450. Wifey and I couldn’t be happier with our purchase\nAuthor: cornellhaywood\n\n#: 7 - old.reddit.com/r/vandwellers/comments/gmb3ss/how_to_build_a_proper_floor/\nTitle:  How to build a proper floor\nAuthor: grettaaa\n\n#: 8 - old.reddit.com/r/vandwellers/comments/l44x8u/10_years_ago_today_i_completed_my_goal_of_driving/\nTitle:  10 years ago today I completed my goal of driving the entire Pan-American Highway. Dream Achieved!\nAuthor: grecy\n\n#: 9 - old.reddit.com/r/vandwellers/comments/cqxnz2/van_living_in_the_rockies_after_the_divorce_got/\nTitle:  Van living in the Rockies after the divorce. Got to keep the dog, though.\nAuthor: gmanzbugz\n\n#: 10 - old.reddit.com/r/vandwellers/comments/mm4gej/build_complete/\nTitle:  Build complete\nAuthor: chrischattin\n\n#: 11 - old.reddit.com/r/vandwellers/comments/hfag2g/this_is_me_pretending_to_read_a_book_in_my_van/\nTitle:  This is me pretending to read a book in my van for virtual points.\nAuthor: ttthefineprinttt\n\n#: 12 - old.reddit.com/r/vandwellers/comments/gz2jz7/excited_to_be_finally_joining_the_team_wish_me/\nTitle:  Excited to be finally joining the team! Wish me luck!\nAuthor: StarCrossedShabelle\n\n#: 13 - old.reddit.com/r/vandwellers/comments/7t823o/i_just_finished_my_sprinter_conversion_i_hope_you/\nTitle:  I just finished my Sprinter conversion. I hope you like it.\nAuthor: dbarou1\n\n#: 14 - old.reddit.com/r/vandwellers/comments/8daoiu/bf_of_6_years_dumped_me_so_i_decided_to_continue/\nTitle:  Bf of 6 years dumped me, so I decided to continue with my dream camper trip solo and bought this baby yesterday\nAuthor: Dangatang19\n\n#: 15 - old.reddit.com/r/vandwellers/comments/gehzn0/my_latest_build_is_probably_my_favorite/\nTitle:  My latest build is probably my favorite\nAuthor: Carolina_tiny_homes\n\n#: 16 - old.reddit.com/r/vandwellers/comments/5t7gy9/can_we_please_pay_homage_to_the_man_that_made_van/\nTitle:  Can we please pay homage to the man that made van dwelling cool?\nAuthor: None\n\n#: 17 - old.reddit.com/r/vandwellers/comments/jcbuyv/im_a_gaming_nerd_that_lives_in_a_van_i_never/\nTitle:  I’m a gaming nerd that lives in a van. I never thought I’d find someone along the way that enjoys this odd lifestyle as much as I do but here we are. Life is so good.\nAuthor: ttthefineprinttt\n\n#: 18 - old.reddit.com/r/vandwellers/comments/lcdzu8/thought_this_fit_here/\nTitle:  Thought this fit here\nAuthor: LOB90\n\n#: 19 - old.reddit.com/r/vandwellers/comments/kapdek/my_van_broke_down_outside_salt_lake_and_a_kind/\nTitle:  My van broke down outside Salt Lake and a kind Redditor dropped everything to give me a lift back to WA\nAuthor: dogvanponyshow\n\n#: 20 - old.reddit.com/r/vandwellers/comments/bgisnu/i_was_laid_off_friday_i_am_a_plumber_and_just_as/\nTitle:  I was laid off Friday. I am a plumber and just as I was about to load my tools into my truck to start my own business I paused, realized I don’t ever want to be the worker bee again and am now going to spend my summer as a nomad. 2015 3.0 diesel. Here is my blank slate.\nAuthor: Plumbingpdx\n\n#: 21 - old.reddit.com/r/vandwellers/comments/htob8b/almost_finished_i_had_never_used_a_screwdriver/\nTitle:  Almost finished! I had never used a screwdriver before this project, so feeling pretty proud!\nAuthor: orlacoghlan\n\n#: 22 - old.reddit.com/r/vandwellers/comments/kgvaqy/i_just_wanna_say_to_all_the_women_who_think_they/\nTitle:  I just wanna say to all the women who think they cannot figure out how to work on their van themselves- do it! I have now replaced my entire fuel system slowly over the last few months. I've added solar, set up a 2nd battery, taken off my canvas westy top-- you can too! It is such a great feeling🙏\nAuthor: misslunablue\n\n#: 23 - old.reddit.com/r/vandwellers/comments/ls9vef/eloped_right_next_to_the_van_on_the_side_of_the/\nTitle:  Eloped right next to the van on the side of the road in Moab last week, Even had time to climb Castleton before. Total cost: a cheap suit/dress and some well used gas\nAuthor: tannerthanyall\n\n#: 24 - old.reddit.com/r/vandwellers/comments/ha09d2/we_made_a_little_stop_motion_video_to_show_our/\nTitle:  We made a little stop motion video to show our seating area space hacks in our van!\nAuthor: climbingvan\n\n#: 25 - old.reddit.com/r/vandwellers/comments/cgkr3u/just_finished_my_first_airstream_conversion/\nTitle:  just finished my first airstream conversion!\nAuthor: isaacmacdonald\n\n#: 26 - old.reddit.com/r/vandwellers/comments/bt97hg/my_recent_conversion_what_do_you_think/\nTitle:  My recent conversion! What do you think? @pavedtopines\nAuthor: rougero93\n\n#: 27 - old.reddit.com/r/vandwellers/comments/nbukai/15_worth_of_screen_magnets_and_gorilla_tape_and/\nTitle:  $15 worth of screen, magnets, and gorilla tape and I’ve got myself some bug free sleeping ventilation.\nAuthor: seedilla666\n\n#: 28 - old.reddit.com/r/vandwellers/comments/nly9sj/i_sold_my_crusty_old_van_that_was_falling_apart/\nTitle:  I sold my crusty old van that was falling apart and spent the last 4 months converting my new Ram Promaster. I’m SO stoked with how it came out.\nAuthor: ttthefineprinttt\n\n#: 29 - old.reddit.com/r/vandwellers/comments/j6i8b7/after_months_in_a_01_mustang_im_now_one_of_you/\nTitle:  After months in a 01 mustang, Im now one of you. This is my 07 ford 3450 v10.\nAuthor: thefocus123\n\n#: 30 - old.reddit.com/r/vandwellers/comments/lkj0i1/van_stolen_with_everything_i_own_please_help/\nTitle:  Van Stolen with Everything I Own. Please Help.\nAuthor: kulture_kub\n\n#: 31 - old.reddit.com/r/vandwellers/comments/kqajgz/two_years_living_in_the_van_and_still_working_on/\nTitle:  Two years living in the van, and still working on my astrophysics PhD!\nAuthor: Simoneister\n\n#: 32 - old.reddit.com/r/vandwellers/comments/bbpydm/found_this_on_instagram_figured_it_belonged_here/\nTitle:  Found this on instagram, figured it belonged here. Credit to @everchanginghorizon\nAuthor: peachteaonacloud\n\n#: 33 - old.reddit.com/r/vandwellers/comments/mvp7c3/my_pandemic_build_is_finally_pretty_much_finished/\nTitle:  My pandemic build is finally pretty much finished!\nAuthor: Daloure\n\n#: 34 - old.reddit.com/r/vandwellers/comments/i8v4er/i_made_a_carbage_cover_to_hide_stuff_in_my_van/\nTitle:  I made a carbage cover to hide stuff in my van\nAuthor: OkinawaParty\n\n#: 35 - old.reddit.com/r/vandwellers/comments/kx4niq/i_built_my_first_pull_out_bed/\nTitle:  I built my first pull out bed!\nAuthor: PRUnicycles\n\n#: 36 - old.reddit.com/r/vandwellers/comments/6e8ggl/painted_a_friends_van_with_a_mountain_scene/\nTitle:  Painted a friend's van with a mountain scene before a big road trip. Figured this belonged here.\nAuthor: dogslobbered\n\n#: 37 - old.reddit.com/r/vandwellers/comments/7jfpoy/i_did_not_just_find_al_capones_old_hideout_in_the/\nTitle:  I did not just find Al Capone’s old hideout in the desert. I just skated al Capone’s old pool? I️ love living in my van. 🎯\nAuthor: TheVanWithNoPlan\n\n#: 38 - old.reddit.com/r/vandwellers/comments/6m7pl3/my_school_bus_conversion_is_almost_complete_album/\nTitle:  My school bus conversion is almost complete! (Album coming soon)\nAuthor: Intalleyvision\n\n#: 39 - old.reddit.com/r/vandwellers/comments/m6qn6h/no_one_talks_about_how_lonely_living_in_a_van_is/\nTitle:  No one talks about how lonely living in a van is. I'm thankful for my dog Millie. I don't think I could do this without her.\nAuthor: ttthefineprinttt\n\n#: 40 - old.reddit.com/r/vandwellers/comments/8ejph0/check_out_my_build/\nTitle:  Check out my build!!!\nAuthor: Carolina_tiny_homes\n\n#: 41 - old.reddit.com/r/vandwellers/comments/aullxe/spotted_on_craigslist/\nTitle:  Spotted on Craigslist...\nAuthor: ChevyLeroy\n\n#: 42 - old.reddit.com/r/vandwellers/comments/9v4x4r/my_cozy_adventure_rig/\nTitle:  My cozy adventure rig!\nAuthor: Modifeye\n\n#: 43 - old.reddit.com/r/vandwellers/comments/i1bp8s/long_time_listener_first_time_calling_in/\nTitle:  Long time listener, first time calling in!\nAuthor: DConnell1\n\n#: 44 - old.reddit.com/r/vandwellers/comments/9m1gns/finally_ready_to_roll/\nTitle:  Finally ready to roll!!\nAuthor: dingatron\n\n#: 45 - old.reddit.com/r/vandwellers/comments/fhh0nc/all_ready_to_head_to_the_mountains_when_the/\nTitle:  All ready to head to the mountains when the country goes into total corona lockdown\nAuthor: tannerthanyall\n\n#: 46 - old.reddit.com/r/vandwellers/comments/cnvbjv/i_just_finished_my_first_cross_country_adventure/\nTitle:  I just finished my first cross country adventure in my van! I FEEL SO ALIVE!\nAuthor: ttthefineprinttt\n\n#: 47 - old.reddit.com/r/vandwellers/comments/8gjwkd/last_night_was_my_first_night_in_the_van/\nTitle:  Last night was my first night in the van!\nAuthor: None\n\n#: 48 - old.reddit.com/r/vandwellers/comments/lu9auy/good_tip_if_you_stuff_your_sleeping_bag_in_a/\nTitle:  Good tip: If you stuff your sleeping bag in a pillowcase, you’ll have a comfy throw pillow when the bed is closed. (And save storage space!)\nAuthor: One_more_pancake\n\n#: 49 - old.reddit.com/r/vandwellers/comments/e3jhyt/i_was_lurking_for_2_years_building_for_1_more/\nTitle:  I was lurking for 2 years, building for 1 more year, but today I can happily announce, that i'm officially part of (y)our community!\nAuthor: Deconfused\n\n#: 50 - old.reddit.com/r/vandwellers/comments/dd6chm/the_landscape_most_dwellers_see_in_the_mornings/\nTitle:  The landscape most dwellers see in the mornings, not a sunrise over a serene ocean\nAuthor: portajohnjackoff\n\n#: 51 - old.reddit.com/r/vandwellers/comments/djp8p9/8_months_in_to_my_phd_and_vandwelling_the_whole/\nTitle:  8 months in to my PhD and vandwelling the whole time; it's been great!\nAuthor: Simoneister\n\n#: 52 - old.reddit.com/r/vandwellers/comments/97cpx0/i_wish_more_of_these_toppers_were_made/\nTitle:  I wish more of these toppers were made\nAuthor: Tenexgj\n\n#: 53 - old.reddit.com/r/vandwellers/comments/hawskx/i_drove_40000_miles_on_the_panamerican_highway/\nTitle:  I drove 40,000 miles on the Pan-American Highway from Alaska to Argentina. The views in Peru are hard to beat!\nAuthor: grecy\n\n#: 54 - old.reddit.com/r/vandwellers/comments/mwyoyo/it_took_us_a_year_to_build_but_it_was_totally/\nTitle:  It took us a year to build, but it was totally worth it. It will never be this clean again.\nAuthor: skibre\n\n#: 55 - old.reddit.com/r/vandwellers/comments/mp71bi/and_with_utah_all_48_states_are_done_sticker_from/\nTitle:  AND WITH UTAH ALL 48 STATES ARE DONE! Sticker from every one.\nAuthor: Ben_Adryyll\n\n#: 56 - old.reddit.com/r/vandwellers/comments/8njg5i/hey_guys_and_gals_come_to_mexico_this_spot_is/\nTitle:  Hey guys and gals, come to Mexico. This spot is just a few hours south of the border and costs $1 for as long as you'd like to stay. Gate, guard, bathrooms, activities, food and a view.\nAuthor: ianternational\n\n#: 57 - old.reddit.com/r/vandwellers/comments/mzp9sl/8_months_of_evenings_and_weekends_nearly_finished/\nTitle:  8 months of evenings and weekends - nearly finished our 2020 Ford Transit Conversion\nAuthor: Timhaiti\n\n#: 58 - old.reddit.com/r/vandwellers/comments/joorxx/i_havent_been_living_in_a_van_for_long_but_this/\nTitle:  I haven’t been living in a van for long but this short period has probably been the best time of my life! Does anyone want to caravan the Blue Ridge Parkway with me?\nAuthor: makandotis\n\n#: 59 - old.reddit.com/r/vandwellers/comments/isawf7/1979_g20_chevy_van_my_dad_gifted_to_me_because_he/\nTitle:  1979 G20 Chevy Van my dad gifted to me because he overheard me talking about wanting to travel across the country in a van with my girlfriend. Only 60k miles, sat in a garage with a cover on it the past 30 years. Absolutely nothing wrong with it mechanically or aesthetically.\nAuthor: skoobiedoo\n\n#: 60 - old.reddit.com/r/vandwellers/comments/mfvhwa/anyone_else_fantasize_about_the_wild_thornberrys/\nTitle:  Anyone else fantasize about the Wild Thornberrys' convey when this show was on?\nAuthor: goatsandhoes101115\n\n#: 61 - old.reddit.com/r/vandwellers/comments/f0mlxu/nights_like_these_are_the_best/\nTitle:  Nights like these are the best.\nAuthor: ttthefineprinttt\n\n#: 62 - old.reddit.com/r/vandwellers/comments/a50yfy/inside_mi_casa/\nTitle:  Inside mi casa.\nAuthor: nerkal3\n\n#: 63 - old.reddit.com/r/vandwellers/comments/7zprq6/i_just_turned_19_and_have_finished_my_conversion/\nTitle:  I just turned 19 and have finished my conversion! Only been on the road for week but I couldn’t be more excited!\nAuthor: anomalanimal\n\n#: 64 - old.reddit.com/r/vandwellers/comments/lhkjk8/now_its_official_i_am_going_to_be_able_to_work/\nTitle:  Now it’s official - I am going to be able to work from the bus for my employer - without any limitations on my location and without any need to go back to the office.\nAuthor: nerdbackpack\n\n#: 65 - old.reddit.com/r/vandwellers/comments/bsk4yr/working_on_my_build_thinking_about_adding_walls/\nTitle:  Working on my build. Thinking about adding walls for stealth.\nAuthor: fatty5000\n\n#: 66 - old.reddit.com/r/vandwellers/comments/eefqyz/i_was_lurking_on_this_sub_while_building_my_van/\nTitle:  I was lurking on this sub while building my van so I figured I'd share my finished product with the rest of you.\nAuthor: mattylight41\n\n#: 67 - old.reddit.com/r/vandwellers/comments/hirn2v/sometimes_youre_in_walmart_parking_lots_sometimes/\nTitle:  Sometimes you’re in Walmart parking lots, sometimes you’re in paradise.\nAuthor: daenerysvegetarian_\n\n#: 68 - old.reddit.com/r/vandwellers/comments/nqlijr/our_first_conversion_is_done_after_9_months_of/\nTitle:  Our first conversion is DONE after 9 months of evenings and weekends! Let the adventures begin!\nAuthor: Timhaiti\n\n#: 69 - old.reddit.com/r/vandwellers/comments/axubmv/ive_wanted_to_do_this_for_years_so_long_rent/\nTitle:  I've wanted to do this for years! So long rent!\nAuthor: mort_goldman68\n\n#: 70 - old.reddit.com/r/vandwellers/comments/ktzzcu/this_looks_like_an_awesome_addition_to_a_van/\nTitle:  This looks like an awesome addition to a van!\nAuthor: Donosoley2\n\n#: 71 - old.reddit.com/r/vandwellers/comments/cxikxk/your_van_isnt_truly_a_home_until_you_get_the/\nTitle:  Your van isn't truly a home until you get the knock... from a Jehovah's Witness.\nAuthor: omegamad\n\n#: 72 - old.reddit.com/r/vandwellers/comments/azvkdo/rock_solid_airtight_logic/\nTitle:  Rock solid, airtight logic\nAuthor: gynecologuy\n\n#: 73 - old.reddit.com/r/vandwellers/comments/l1ng38/spent_the_day_changing_out_the_engine_oil_cooler/\nTitle:  Spent the day changing out the engine oil cooler and spark plugs in my promaster. No prior mechanical experience so hopefully I did it all right 😂🤞🏻\nAuthor: Skateordie_\n\n#: 74 - old.reddit.com/r/vandwellers/comments/k1kthg/4_months_48_states_18000_miles_all_in_a_35_year/\nTitle:  4 months, 48 states, 18,000 miles, all in a 35 year old van. Made it to Mom's in NC just in time for dinner! Happy Thanksgiving to my fellow road folks :)\nAuthor: groovyshoestuesday\n\n#: 75 - old.reddit.com/r/vandwellers/comments/bsuucs/no_more_nyc_rent_for_me/\nTitle:  No more NYC rent for me\nAuthor: permalink1\n\n#: 76 - old.reddit.com/r/vandwellers/comments/ltbq12/netflix_and_chill_with_my_dog/\nTitle:  Netflix and chill with my dog\nAuthor: pushupnotsportsbra\n\n#: 77 - old.reddit.com/r/vandwellers/comments/cwwkxy/so_does_camping_inside_of_a_castle_technically/\nTitle:  So, does camping inside of a castle technically mean I’m a princess?\nAuthor: curlyhaircamping\n\n#: 78 - old.reddit.com/r/vandwellers/comments/h11d74/transit_self_build/\nTitle:  transit self build\nAuthor: gnivilnav\n\n#: 79 - old.reddit.com/r/vandwellers/comments/lbasu7/airing_the_sheets/\nTitle:  Airing the sheets 🌊\nAuthor: joshuarhys91\n\n#: 80 - old.reddit.com/r/vandwellers/comments/j9c6po/rented_a_van_to_travel_around_italy_this_is_what/\nTitle:  Rented a van to travel around Italy. This is what I arrived to...\nAuthor: Yewstonboy\n\n#: 81 - old.reddit.com/r/vandwellers/comments/d84yl6/the_key_to_longterm_vanlife_be_able_to_admit_what/\nTitle:  The key to long-term vanlife: be able to admit what you like, even if it’s not always “outdoorsy” or “adventurous”. I like big-screen movie nights, so a projector was a must for us 😉\nAuthor: curlyhaircamping\n\n#: 82 - old.reddit.com/r/vandwellers/comments/isr7ay/finished_the_bathroom_im_pretty_happy_with_it/\nTitle:  Finished the bathroom, I’m pretty happy with it.\nAuthor: flippingypsy\n\n#: 83 - old.reddit.com/r/vandwellers/comments/e6zj3v/expectations_vs_reality/\nTitle:  Expectations VS Reality\nAuthor: Hartc17\n\n#: 84 - old.reddit.com/r/vandwellers/comments/l154wv/warning_drifting_is_not_for_the_faint_hearted_but/\nTitle:  Warning: Drifting is not for the faint hearted. But learning the skill might help you in dire situations.\nAuthor: AFarkaouii\n\n#: 85 - old.reddit.com/r/vandwellers/comments/afxe2z/try_vanlife_they_said_it_will_be_fun_they_said/\nTitle:  Try Vanlife they said. It will be fun they said.\nAuthor: steam_donkey\n\n#: 86 - old.reddit.com/r/vandwellers/comments/gu10se/almost_done_our_sprinter_van_conversion/\nTitle:  almost done - our sprinter van conversion\nAuthor: zom-bi\n\n#: 87 - old.reddit.com/r/vandwellers/comments/7mjucb/this_bad_boy_pulled_up_behind_me_at_the_gas/\nTitle:  This bad boy pulled up behind me at the gas station and I instantly fell in love\nAuthor: ISheader\n\n#: 88 - old.reddit.com/r/vandwellers/comments/9zhqaa/relatable_shitpost/\nTitle:  Relatable shitpost\nAuthor: Def_Not_A_Llama\n\n#: 89 - old.reddit.com/r/vandwellers/comments/c5wldr/a_sweet_custom_camper_in_my_san_francisco/\nTitle:  A sweet custom camper in my San Francisco neighborhood, by me, fountain pen, Stillman and bern sketchbook\nAuthor: pmahart\n\n#: 90 - old.reddit.com/r/vandwellers/comments/cznv2h/25_months_of_blood_sweat_tears_the_van_build_is/\nTitle:  2.5 Months of blood, sweat & tears; the van build is finished!\nAuthor: rmcdon88\n\n#: 91 - old.reddit.com/r/vandwellers/comments/b744sb/pretty_sure_nickelodeon_was_the_original/\nTitle:  Pretty sure Nickelodeon was the original encouragement for me living in a van.. The Kombi!!\nAuthor: None\n\n#: 92 - old.reddit.com/r/vandwellers/comments/gxxnlh/found_via_my_facebook_marketplace_post_all_things/\nTitle:  Found! Via my Facebook marketplace post all things. Window smashed, steering column trashed, and it reeks of four loko but otherwise pretty good. Thanks for the help everyone\nAuthor: Octopain\n\n#: 93 - old.reddit.com/r/vandwellers/comments/loe2pn/this_is_what_building_a_van_really_looks/\nTitle:  This is what building a van really looks like...never ending trips to the hardware store.\nAuthor: One_more_pancake\n\n#: 94 - old.reddit.com/r/vandwellers/comments/lmmkr8/a_timeless_classic_found_while_cleaning_up/\nTitle:  A timeless classic found while cleaning up\nAuthor: ambulance_takeover\n\n#: 95 - old.reddit.com/r/vandwellers/comments/gf256y/we_recently_finished_our_build_and_this_is_our/\nTitle:  We recently finished our build, and this is our projector setup! Perfect for watching movies in bed during lockdown 🍿\nAuthor: climbingvan\n\n#: 96 - old.reddit.com/r/vandwellers/comments/n8imbo/21m_student_first_build_finally_finished/\nTitle:  21M, student, First build, finally finished converting my 1985 Mercedes 207d motorhome after around 5 months of on and off work. I've been looking forward to share her with you guys this whole time. Let me know if you have any questions, or want more details, and ideas for a name are very welcome!\nAuthor: emilewillmott\n\n#: 97 - old.reddit.com/r/vandwellers/comments/8t8zgf/ill_take_it/\nTitle:  I’ll take it :)\nAuthor: tgeebus\n\n#: 98 - old.reddit.com/r/vandwellers/comments/dzvjiw/million_dollar_view_on_a_budget/\nTitle:  Million dollar view on a budget.\nAuthor: kneeeil\n\n#: 99 - old.reddit.com/r/vandwellers/comments/c1o5o1/i_graduated_from_college_todayfigured_its_now_or/\nTitle:  I Graduated from College Today...Figured It’s Now or Never Right?\nAuthor: surfdirtbag\n\n#: 100 - old.reddit.com/r/vandwellers/comments/j4fulv/got_our_bus_to_the_point_where_im_ready_to_share/\nTitle:  Got our bus to the point where I’m ready to share. Meet Atlantis. 2013 Ford E350 shuttle bus conversion.\nAuthor: Burning_Trees\n\n"
     ]
    }
   ],
   "source": [
    "count = 0\n",
    "for submission in top_posts:\n",
    "    if not submission.stickied:\n",
    "        count += 1\n",
    "        print('#: {} - old.reddit.com{}\\nTitle:  {}\\nAuthor: {}\\n'.format(count, submission.permalink, submission.title, submission.author ))\n"
   ]
  },
  {
   "cell_type": "code",
   "execution_count": 37,
   "metadata": {},
   "outputs": [
    {
     "output_type": "execute_result",
     "data": {
      "text/plain": [
       "['STR_FIELD',\n",
       " '__class__',\n",
       " '__delattr__',\n",
       " '__dict__',\n",
       " '__dir__',\n",
       " '__doc__',\n",
       " '__eq__',\n",
       " '__format__',\n",
       " '__ge__',\n",
       " '__getattr__',\n",
       " '__getattribute__',\n",
       " '__gt__',\n",
       " '__hash__',\n",
       " '__init__',\n",
       " '__init_subclass__',\n",
       " '__le__',\n",
       " '__lt__',\n",
       " '__module__',\n",
       " '__ne__',\n",
       " '__new__',\n",
       " '__reduce__',\n",
       " '__reduce_ex__',\n",
       " '__repr__',\n",
       " '__setattr__',\n",
       " '__sizeof__',\n",
       " '__str__',\n",
       " '__subclasshook__',\n",
       " '__weakref__',\n",
       " '_chunk',\n",
       " '_comments',\n",
       " '_comments_by_id',\n",
       " '_fetch',\n",
       " '_fetch_data',\n",
       " '_fetch_info',\n",
       " '_fetched',\n",
       " '_kind',\n",
       " '_reddit',\n",
       " '_reset_attributes',\n",
       " '_safely_add_arguments',\n",
       " '_url_parts',\n",
       " '_vote',\n",
       " 'all_awardings',\n",
       " 'allow_live_comments',\n",
       " 'approved_at_utc',\n",
       " 'approved_by',\n",
       " 'archived',\n",
       " 'author',\n",
       " 'author_flair_background_color',\n",
       " 'author_flair_css_class',\n",
       " 'author_flair_richtext',\n",
       " 'author_flair_template_id',\n",
       " 'author_flair_text',\n",
       " 'author_flair_text_color',\n",
       " 'author_flair_type',\n",
       " 'author_fullname',\n",
       " 'author_patreon_flair',\n",
       " 'author_premium',\n",
       " 'award',\n",
       " 'awarders',\n",
       " 'banned_at_utc',\n",
       " 'banned_by',\n",
       " 'can_gild',\n",
       " 'can_mod_post',\n",
       " 'category',\n",
       " 'clear_vote',\n",
       " 'clicked',\n",
       " 'comment_limit',\n",
       " 'comment_sort',\n",
       " 'comments',\n",
       " 'content_categories',\n",
       " 'contest_mode',\n",
       " 'created',\n",
       " 'created_utc',\n",
       " 'crosspost',\n",
       " 'delete',\n",
       " 'disable_inbox_replies',\n",
       " 'discussion_type',\n",
       " 'distinguished',\n",
       " 'domain',\n",
       " 'downs',\n",
       " 'downvote',\n",
       " 'duplicates',\n",
       " 'edit',\n",
       " 'edited',\n",
       " 'enable_inbox_replies',\n",
       " 'flair',\n",
       " 'fullname',\n",
       " 'gild',\n",
       " 'gilded',\n",
       " 'gildings',\n",
       " 'hidden',\n",
       " 'hide',\n",
       " 'hide_score',\n",
       " 'id',\n",
       " 'id_from_url',\n",
       " 'is_created_from_ads_ui',\n",
       " 'is_crosspostable',\n",
       " 'is_meta',\n",
       " 'is_original_content',\n",
       " 'is_reddit_media_domain',\n",
       " 'is_robot_indexable',\n",
       " 'is_self',\n",
       " 'is_video',\n",
       " 'likes',\n",
       " 'link_flair_background_color',\n",
       " 'link_flair_css_class',\n",
       " 'link_flair_richtext',\n",
       " 'link_flair_template_id',\n",
       " 'link_flair_text',\n",
       " 'link_flair_text_color',\n",
       " 'link_flair_type',\n",
       " 'locked',\n",
       " 'mark_visited',\n",
       " 'media',\n",
       " 'media_embed',\n",
       " 'media_only',\n",
       " 'mod',\n",
       " 'mod_note',\n",
       " 'mod_reason_by',\n",
       " 'mod_reason_title',\n",
       " 'mod_reports',\n",
       " 'name',\n",
       " 'no_follow',\n",
       " 'num_comments',\n",
       " 'num_crossposts',\n",
       " 'num_duplicates',\n",
       " 'num_reports',\n",
       " 'over_18',\n",
       " 'parent_whitelist_status',\n",
       " 'parse',\n",
       " 'permalink',\n",
       " 'pinned',\n",
       " 'post_hint',\n",
       " 'preview',\n",
       " 'pwls',\n",
       " 'quarantine',\n",
       " 'removal_reason',\n",
       " 'removed_by',\n",
       " 'removed_by_category',\n",
       " 'reply',\n",
       " 'report',\n",
       " 'report_reasons',\n",
       " 'save',\n",
       " 'saved',\n",
       " 'score',\n",
       " 'secure_media',\n",
       " 'secure_media_embed',\n",
       " 'selftext',\n",
       " 'selftext_html',\n",
       " 'send_replies',\n",
       " 'shortlink',\n",
       " 'spoiler',\n",
       " 'stickied',\n",
       " 'subreddit',\n",
       " 'subreddit_id',\n",
       " 'subreddit_name_prefixed',\n",
       " 'subreddit_subscribers',\n",
       " 'subreddit_type',\n",
       " 'suggested_sort',\n",
       " 'thumbnail',\n",
       " 'thumbnail_height',\n",
       " 'thumbnail_width',\n",
       " 'title',\n",
       " 'top_awarded_type',\n",
       " 'total_awards_received',\n",
       " 'treatment_tags',\n",
       " 'unhide',\n",
       " 'unsave',\n",
       " 'ups',\n",
       " 'upvote',\n",
       " 'upvote_ratio',\n",
       " 'url',\n",
       " 'url_overridden_by_dest',\n",
       " 'user_reports',\n",
       " 'view_count',\n",
       " 'visited',\n",
       " 'whitelist_status',\n",
       " 'wls']"
      ]
     },
     "metadata": {},
     "execution_count": 37
    }
   ],
   "source": [
    "dir(submission)"
   ]
  },
  {
   "cell_type": "code",
   "execution_count": null,
   "metadata": {},
   "outputs": [],
   "source": []
  }
 ],
 "metadata": {
  "kernelspec": {
   "name": "python395jvsc74a57bd0cac3a5ca563a6ff3c504693dcd6511a51df61056239c48de862a622f77c602b7",
   "display_name": "Python 3.9.5 64-bit"
  },
  "language_info": {
   "codemirror_mode": {
    "name": "ipython",
    "version": 3
   },
   "file_extension": ".py",
   "mimetype": "text/x-python",
   "name": "python",
   "nbconvert_exporter": "python",
   "pygments_lexer": "ipython3",
   "version": "3.9.5"
  },
  "metadata": {
   "interpreter": {
    "hash": "cac3a5ca563a6ff3c504693dcd6511a51df61056239c48de862a622f77c602b7"
   }
  }
 },
 "nbformat": 4,
 "nbformat_minor": 4
}